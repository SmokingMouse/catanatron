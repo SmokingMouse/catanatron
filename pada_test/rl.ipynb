{
 "cells": [
  {
   "cell_type": "code",
   "execution_count": 16,
   "metadata": {},
   "outputs": [],
   "source": [
    "import catanatron_gym.envs.catanatron_env as catan_env \n",
    "# from catanatron_experimental.machine_learning.palyers.value import ValueFunctionPlayer\n",
    "import catanatron_experimental.machine_learning.players.value as value\n",
    "from catanatron.models.player import Color"
   ]
  },
  {
   "cell_type": "code",
   "execution_count": 7,
   "metadata": {},
   "outputs": [],
   "source": [
    "# import random\n",
    "# import gymnasium as gym\n",
    "\n",
    "\n",
    "# env = gym.make(\"catanatron_gym:catanatron-v1\")\n",
    "# observation, info = env.reset()\n",
    "# for _ in range(1000):\n",
    "#     # your agent here (this takes random actions)\n",
    "#     action = random.choice(env.unwrapped.get_valid_actions())\n",
    "#     print(catan_env.ACTIONS_ARRAY[action])\n",
    "#     observation, reward, terminated, truncated, info = env.step(action)\n",
    "#     done = terminated or truncated\n",
    "#     if done:\n",
    "#         observation, info = env.reset()\n",
    "# env.close()\n"
   ]
  },
  {
   "cell_type": "code",
   "execution_count": 18,
   "metadata": {},
   "outputs": [],
   "source": [
    "\n",
    "env = catan_env.CatanatronEnv(config={\n",
    "    'enemies': [value.ValueFunctionPlayer(Color.RED)]\n",
    "})"
   ]
  },
  {
   "cell_type": "code",
   "execution_count": 25,
   "metadata": {},
   "outputs": [
    {
     "name": "stdout",
     "output_type": "stream",
     "text": [
      "Color.RED\n",
      "Color.RED\n",
      "Color.RED\n",
      "Color.RED\n",
      "Color.RED\n",
      "Color.RED\n",
      "Color.RED\n",
      "Color.RED\n",
      "Color.RED\n",
      "Color.RED\n",
      "Color.RED\n",
      "Color.RED\n"
     ]
    }
   ],
   "source": [
    "import random\n",
    "\n",
    "observation, info = env.reset()\n",
    "for _ in range(1000):\n",
    "    # your agent here (this takes random actions)\n",
    "    action = random.choice(env.unwrapped.get_valid_actions())\n",
    "\n",
    "\n",
    "    \n",
    "    observation, reward, terminated, truncated, info = env.step(action)\n",
    "    done = terminated or truncated\n",
    "    if done:\n",
    "        print(env.game.winning_color())\n",
    "        observation, info = env.reset()\n",
    "        # print(env.game)\n",
    "env.close()"
   ]
  },
  {
   "cell_type": "code",
   "execution_count": null,
   "metadata": {},
   "outputs": [],
   "source": []
  }
 ],
 "metadata": {
  "kernelspec": {
   "display_name": "ai-learning",
   "language": "python",
   "name": "python3"
  },
  "language_info": {
   "codemirror_mode": {
    "name": "ipython",
    "version": 3
   },
   "file_extension": ".py",
   "mimetype": "text/x-python",
   "name": "python",
   "nbconvert_exporter": "python",
   "pygments_lexer": "ipython3",
   "version": "3.10.0"
  },
  "orig_nbformat": 4
 },
 "nbformat": 4,
 "nbformat_minor": 2
}
